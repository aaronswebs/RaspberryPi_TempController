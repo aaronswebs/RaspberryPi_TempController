{
 "cells": [
  {
   "cell_type": "code",
   "execution_count": 3,
   "metadata": {},
   "outputs": [],
   "source": [
    "import pandas as pd\n",
    "from bs4 import BeautifulSoup\n",
    "import requests\n",
    "\n",
    "url = \"http://www.bom.gov.au/vic/observations/vicall.shtml?ref=hdr\"\n",
    "\n",
    "response = requests.get(url)"
   ]
  },
  {
   "cell_type": "code",
   "execution_count": 4,
   "metadata": {
    "tags": []
   },
   "outputs": [
    {
     "output_type": "stream",
     "name": "stdout",
     "text": "Success\n"
    }
   ],
   "source": [
    "if response.status_code == 200:\n",
    "    print('Success')\n",
    "else:\n",
    "    print('Failed to get URL')"
   ]
  },
  {
   "cell_type": "code",
   "execution_count": 14,
   "metadata": {
    "tags": [
     "outputPrepend"
    ]
   },
   "outputs": [
    {
     "output_type": "stream",
     "name": "stdout",
     "text": "ation-gelantipy\">20</td>\n  <td headers=\"tEG-wind tEG-wind-spd-kts tEG-station-gelantipy\">8</td>\n  <td headers=\"tEG-wind tEG-wind-gust-kts tEG-station-gelantipy\">11</td>\n  <td headers=\"tEG-press tEG-station-gelantipy\">1016.6</td>\n  <td headers=\"tEG-rainsince9am tEG-station-gelantipy\">0.0</td>\n  <td headers=\"tEG-lowtmp tEG-station-gelantipy\">4.2<br /><small>02:15am</small></td>\n  <td headers=\"tEG-hightmp tEG-station-gelantipy\">8.7<br /><small>01:34pm</small></td>\n  <td headers=\"tEG-highwind tEG-highwind-dir tEG-station-gelantipy\">SE</td>\n  <td headers=\"tEG-highwind tEG-highwind-gust-kmh tEG-station-gelantipy\">37<br /><small>10:35am</small></td>\n  <td headers=\"tEG-highwind tEG-highwind-gust-kts tEG-station-gelantipy\">20<br /><small>10:35am</small></td>\n</tr>\n<tr class=\"rowleftcolumn\">\n  <th id=\"tEG-station-kingfish-b\" class=\"rowleftcolumn\"><a href=\"/products/IDV60801/IDV60801.55039.shtml\">Kingfish B</a></th>\n  <td headers=\"tEG-datetime tEG-station-kingfish-b\">09/02:30pm</td>\n  <td headers=\"tEG-tmp tEG-station-kingfish-b\">12.3</td>\n  <td headers=\"tEG-apptmp tEG-station-kingfish-b\">3.6</td>\n  <td headers=\"tEG-dewpoint tEG-station-kingfish-b\">6.0</td>\n  <td headers=\"tEG-relhum tEG-station-kingfish-b\">65</td>\n  <td headers=\"tEG-delta-t tEG-station-kingfish-b\">3.0</td>\n  <td headers=\"tEG-wind tEG-wind-dir tEG-station-kingfish-b\">ESE</td>\n  <td headers=\"tEG-wind tEG-wind-spd-kmh tEG-station-kingfish-b\">41</td>\n  <td headers=\"tEG-wind tEG-wind-gust-kmh tEG-station-kingfish-b\">46</td>\n  <td headers=\"tEG-wind tEG-wind-spd-kts tEG-station-kingfish-b\">22</td>\n  <td headers=\"tEG-wind tEG-wind-gust-kts tEG-station-kingfish-b\">25</td>\n  <td headers=\"tEG-press tEG-station-kingfish-b\">1019.7</td>\n  <td headers=\"tEG-rainsince9am tEG-station-kingfish-b\">-</td>\n  <td headers=\"tEG-lowtmp tEG-station-kingfish-b\">-</td>\n  <td headers=\"tEG-hightmp tEG-station-kingfish-b\">-</td>\n  <td headers=\"tEG-highwind tEG-highwind-dir tEG-station-kingfish-b\">-</td>\n  <td headers=\"tEG-highwind tEG-highwind-gust-kmh tEG-station-kingfish-b\">-</td>\n  <td headers=\"tEG-highwind tEG-highwind-gust-kts tEG-station-kingfish-b\">-</td>\n</tr>\n<tr class=\"contrast\">\n  <th id=\"tEG-station-lakes-entrance\" class=\"rowleftcolumn\"><a href=\"/products/IDV60801/IDV60801.95904.shtml\">Lakes Entrance</a></th>\n  <td headers=\"tEG-datetime tEG-station-lakes-entrance\">09/09:00am</td>\n  <td headers=\"tEG-tmp tEG-station-lakes-entrance\">13.5</td>\n  <td headers=\"tEG-apptmp tEG-station-lakes-entrance\">7.2</td>\n  <td headers=\"tEG-dewpoint tEG-station-lakes-entrance\">9.6</td>\n  <td headers=\"tEG-relhum tEG-station-lakes-entrance\">77</td>\n  <td headers=\"tEG-delta-t tEG-station-lakes-entrance\">2.0</td>\n  <td headers=\"tEG-wind tEG-wind-dir tEG-station-lakes-entrance\">E</td>\n  <td headers=\"tEG-wind tEG-wind-spd-kmh tEG-station-lakes-entrance\">33</td>\n  <td headers=\"tEG-wind tEG-wind-gust-kmh tEG-station-lakes-entrance\">-</td>\n  <td headers=\"tEG-wind tEG-wind-spd-kts tEG-station-lakes-entrance\">18</td>\n  <td headers=\"tEG-wind tEG-wind-gust-kts tEG-station-lakes-entrance\">-</td>\n  <td headers=\"tEG-press tEG-station-lakes-entrance\">-</td>\n  <td headers=\"tEG-rainsince9am tEG-station-lakes-entrance\">12.0</td>\n  <td headers=\"tEG-lowtmp tEG-station-lakes-entrance\">-</td>\n  <td headers=\"tEG-hightmp tEG-station-lakes-entrance\">-</td>\n  <td headers=\"tEG-highwind tEG-highwind-dir tEG-station-lakes-entrance\">-</td>\n  <td headers=\"tEG-highwind tEG-highwind-gust-kmh tEG-station-lakes-entrance\">-</td>\n  <td headers=\"tEG-highwind tEG-highwind-gust-kts tEG-station-lakes-entrance\">-</td>\n</tr>\n<tr class=\"rowleftcolumn\">\n  <th id=\"tEG-station-mallacoota\" class=\"rowleftcolumn\"><a href=\"/products/IDV60801/IDV60801.94935.shtml\">Mallacoota</a></th>\n  <td headers=\"tEG-datetime tEG-station-mallacoota\">09/03:40pm</td>\n  <td headers=\"tEG-tmp tEG-station-mallacoota\">13.1</td>\n  <td headers=\"tEG-apptmp tEG-station-mallacoota\">5.2</td>\n  <td headers=\"tEG-dewpoint tEG-station-mallacoota\">8.0</td>\n  <td headers=\"tEG-relhum tEG-station-mallacoota\">71</td>\n  <td headers=\"tEG-delta-t tEG-station-mallacoota\">2.5</td>\n  <td headers=\"tEG-wind tEG-wind-dir tEG-station-mallacoota\">SE</td>\n  <td headers=\"tEG-wind tEG-wind-spd-kmh tEG-station-mallacoota\">39</td>\n  <td headers=\"tEG-wind tEG-wind-gust-kmh tEG-station-mallacoota\">44</td>\n  <td headers=\"tEG-wind tEG-wind-spd-kts tEG-station-mallacoota\">21</td>\n  <td headers=\"tEG-wind tEG-wind-gust-kts tEG-station-mallacoota\">24</td>\n  <td headers=\"tEG-press tEG-station-mallacoota\">1017.9</td>\n  <td headers=\"tEG-rainsince9am tEG-station-mallacoota\">0.2</td>\n  <td headers=\"tEG-lowtmp tEG-station-mallacoota\">11.4<br /><small>11:59pm</small></td>\n  <td headers=\"tEG-hightmp tEG-station-mallacoota\">14.1<br /><small>12:10pm</small></td>\n  <td headers=\"tEG-highwind tEG-highwind-dir tEG-station-mallacoota\">SE</td>\n  <td headers=\"tEG-highwind tEG-highwind-gust-kmh tEG-station-mallacoota\">54<br /><small>02:09pm</small></td>\n  <td headers=\"tEG-highwind tEG-highwind-gust-kts tEG-station-mallacoota\">29<br /><small>02:09pm</small></td>\n</tr>\n<tr class=\"rowleftcolumn\">\n  <th id=\"tEG-station-mount-nowa-nowa\" class=\"rowleftcolumn\"><a href=\"/products/IDV60801/IDV60801.94930.shtml\">Mount Nowa Nowa</a></th>\n  <td headers=\"tEG-datetime tEG-station-mount-nowa-nowa\">09/03:40pm</td>\n  <td headers=\"tEG-tmp tEG-station-mount-nowa-nowa\">9.5</td>\n  <td headers=\"tEG-apptmp tEG-station-mount-nowa-nowa\">7.4</td>\n  <td headers=\"tEG-dewpoint tEG-station-mount-nowa-nowa\">8.1</td>\n  <td headers=\"tEG-relhum tEG-station-mount-nowa-nowa\">91</td>\n  <td headers=\"tEG-delta-t tEG-station-mount-nowa-nowa\">0.7</td>\n  <td headers=\"tEG-wind tEG-wind-dir tEG-station-mount-nowa-nowa\">ESE</td>\n  <td headers=\"tEG-wind tEG-wind-spd-kmh tEG-station-mount-nowa-nowa\">9</td>\n  <td headers=\"tEG-wind tEG-wind-gust-kmh tEG-station-mount-nowa-nowa\">13</td>\n  <td headers=\"tEG-wind tEG-wind-spd-kts tEG-station-mount-nowa-nowa\">5</td>\n  <td headers=\"tEG-wind tEG-wind-gust-kts tEG-station-mount-nowa-nowa\">7</td>\n  <td headers=\"tEG-press tEG-station-mount-nowa-nowa\">-</td>\n  <td headers=\"tEG-rainsince9am tEG-station-mount-nowa-nowa\">0.8</td>\n  <td headers=\"tEG-lowtmp tEG-station-mount-nowa-nowa\">6.8<br /><small>04:43am</small></td>\n  <td headers=\"tEG-hightmp tEG-station-mount-nowa-nowa\">10.9<br /><small>12:41pm</small></td>\n  <td headers=\"tEG-highwind tEG-highwind-dir tEG-station-mount-nowa-nowa\">ESE</td>\n  <td headers=\"tEG-highwind tEG-highwind-gust-kmh tEG-station-mount-nowa-nowa\">26<br /><small>10:41am</small></td>\n  <td headers=\"tEG-highwind tEG-highwind-gust-kts tEG-station-mount-nowa-nowa\">14<br /><small>10:41am</small></td>\n</tr>\n<tr class=\"rowleftcolumn\">\n  <th id=\"tEG-station-omeo\" class=\"rowleftcolumn\"><a href=\"/products/IDV60801/IDV60801.94908.shtml\">Omeo</a></th>\n  <td headers=\"tEG-datetime tEG-station-omeo\">09/03:40pm</td>\n  <td headers=\"tEG-tmp tEG-station-omeo\">7.3</td>\n  <td headers=\"tEG-apptmp tEG-station-omeo\">2.0</td>\n  <td headers=\"tEG-dewpoint tEG-station-omeo\">6.6</td>\n  <td headers=\"tEG-relhum tEG-station-omeo\">95</td>\n  <td headers=\"tEG-delta-t tEG-station-omeo\">0.3</td>\n  <td headers=\"tEG-wind tEG-wind-dir tEG-station-omeo\">SE</td>\n  <td headers=\"tEG-wind tEG-wind-spd-kmh tEG-station-omeo\">24</td>\n  <td headers=\"tEG-wind tEG-wind-gust-kmh tEG-station-omeo\">35</td>\n  <td headers=\"tEG-wind tEG-wind-spd-kts tEG-station-omeo\">13</td>\n  <td headers=\"tEG-wind tEG-wind-gust-kts tEG-station-omeo\">19</td>\n  <td headers=\"tEG-press tEG-station-omeo\">1017.3</td>\n  <td headers=\"tEG-rainsince9am tEG-station-omeo\">0.8</td>\n  <td headers=\"tEG-lowtmp tEG-station-omeo\">5.6<br /><small>05:43am</small></td>\n  <td headers=\"tEG-hightmp tEG-station-omeo\">8.9<br /><small>02:54pm</small></td>\n  <td headers=\"tEG-highwind tEG-highwind-dir tEG-station-omeo\">SE</td>\n  <td headers=\"tEG-highwind tEG-highwind-gust-kmh tEG-station-omeo\">43<br /><small>11:17am</small></td>\n  <td headers=\"tEG-highwind tEG-highwind-gust-kts tEG-station-omeo\">23<br /><small>11:17am</small></td>\n</tr>\n<tr class=\"rowleftcolumn\">\n  <th id=\"tEG-station-orbost\" class=\"rowleftcolumn\"><a href=\"/products/IDV60801/IDV60801.95918.shtml\">Orbost</a></th>\n  <td headers=\"tEG-datetime tEG-station-orbost\">09/03:40pm</td>\n  <td headers=\"tEG-tmp tEG-station-orbost\">12.4</td>\n  <td headers=\"tEG-apptmp tEG-station-orbost\">10.4</td>\n  <td headers=\"tEG-dewpoint tEG-station-orbost\">8.8</td>\n  <td headers=\"tEG-relhum tEG-station-orbost\">79</td>\n  <td headers=\"tEG-delta-t tEG-station-orbost\">1.8</td>\n  <td headers=\"tEG-wind tEG-wind-dir tEG-station-orbost\">ESE</td>\n  <td headers=\"tEG-wind tEG-wind-spd-kmh tEG-station-orbost\">9</td>\n  <td headers=\"tEG-wind tEG-wind-gust-kmh tEG-station-orbost\">13</td>\n  <td headers=\"tEG-wind tEG-wind-spd-kts tEG-station-orbost\">5</td>\n  <td headers=\"tEG-wind tEG-wind-gust-kts tEG-station-orbost\">7</td>\n  <td headers=\"tEG-press tEG-station-orbost\">-</td>\n  <td headers=\"tEG-rainsince9am tEG-station-orbost\">0.6</td>\n  <td headers=\"tEG-lowtmp tEG-station-orbost\">7.6<br /><small>05:22am</small></td>\n  <td headers=\"tEG-hightmp tEG-station-orbost\">14.1<br /><small>12:18pm</small></td>\n  <td headers=\"tEG-highwind tEG-highwind-dir tEG-station-orbost\">SE</td>\n  <td headers=\"tEG-highwind tEG-highwind-gust-kmh tEG-station-orbost\">32<br /><small>12:19pm</small></td>\n  <td headers=\"tEG-highwind tEG-highwind-gust-kts tEG-station-orbost\">17<br /><small>12:19pm</small></td>\n</tr>\n</tbody> <!-- abcd close product tbody for this division -->\n</table> <!-- ABCD close product table for this division -->\n\n<h2 id=\"PORT\">PORTABLE</h2>\n<table id=\"tPORT\" border=\"1\" cellspacing=\"0\" class=\"tabledata obs_table\" summary=\"Observations for PORT including temperature, wind, rain and other weather elements\"> <!-- ABCD open product division table before col headings -->\n<colgroup>\n<col class=\"col_station\" />\n<col />\n<col />\n<col />\n<col />\n<col />\n<col />\n</colgroup>\n\n<thead>\n<tr>\n  <th id=\"tPORT-station\" rowspan=\"2\" class=\"rowleftcolumn\">&nbsp;</th>\n  <th id=\"tPORT-datetime\" rowspan=\"2\" title=\"Date and local time\">Date/Time<br /><acronym title=\"Eastern Standard Time\">EST</acronym></th>\n  <th id=\"tPORT-tmp\" rowspan=\"2\"><abbr title=\"Temperature, degrees Celsius\">Temp<br />&deg;C</abbr></th>\n  <th id=\"tPORT-apptmp\" rowspan=\"2\"><abbr title=\"Apparent Temperature, degrees Celsius\">App<br />Temp<br />&deg;C</abbr></th>\n  <th id=\"tPORT-dewpoint\" rowspan=\"2\"><abbr title=\"Dew Point Temperature, degrees Celsius\">Dew<br />Point<br />&deg;C</abbr></th>\n  <th id=\"tPORT-relhum\" rowspan=\"2\"><abbr title=\"Relative Humidity, percentage\">Rel<br />Hum<br />%</abbr></th>\n  <th id=\"tPORT-delta-t\" rowspan=\"2\"><abbr title=\"Wet Bulb Depression, degrees Celsius\">Delta-T<br />&deg;C</abbr></th>\n  <th id=\"tPORT-wind\" colspan=\"5\">Wind</th>\n  <th id=\"tPORT-press\" rowspan=\"2\"><abbr title=\"Pressure, hectopascals\">Press<br />hPa</abbr></th>\n  <th id=\"tPORT-rainsince9am\" rowspan=\"2\" title=\"Rain since 9am, millimetres\">Rain since<br />9am<br /><abbr title=\"millimetres\">mm</abbr></th>\n  <!-- extremes -->\n  <th id=\"tPORT-lowtmp\" rowspan=\"2\" class=\"bgcolor1\"><abbr title=\"Lowest Temperature, degrees Celsius, from 6pm to 9am\">Low<br />Temp<br />&deg;C</abbr><br /><small>time</small></th>\n  <th id=\"tPORT-hightmp\" rowspan=\"2\" class=\"bgcolor1\"><abbr title=\"Highest Temperature, degrees Celsius, from 6am to 9pm\">High<br />Temp<br />&deg;C</abbr><br /><small>time</small></th>\n  <th id=\"tPORT-highwind\" colspan=\"3\" class=\"bgcolor1\" title=\"Highest Wind Gust from midnight\">Highest Wind Gust</th>\n</tr>\n<tr>\n  <th headers=\"tPORT-wind\" id=\"tPORT-wind-dir\"><abbr title=\"Direction the wind comes from\">Dir</abbr>&nbsp;</th>\n  <th headers=\"tPORT-wind\" id=\"tPORT-wind-spd-kmh\"><abbr title=\"Wind Speed, kilometres per hour, 10-minute average from the standard height of 10 metres\">Spd<br />km/h</abbr></th>\n  <th headers=\"tPORT-wind\" id=\"tPORT-wind-gust-kmh\"><abbr title=\"Wind Gust, kilometres per hour, measured over 3 seconds from the standard height of 10 metres\">Gust<br />km/h</abbr></th>\n  <th headers=\"tPORT-wind\" id=\"tPORT-wind-spd-kts\"><abbr title=\"Wind Speed, knots, 10-minute average from the standard height of 10 metres\">Spd<br />kts</abbr></th>\n  <th headers=\"tPORT-wind\" id=\"tPORT-wind-gust-kts\"><abbr title=\"Wind Gust, knots, measured over 3 seconds from the standard height of 10 metres\">Gust<br />kts</abbr></th>\n  <!-- extremes -->\n  <th headers=\"tPORT-highwind\" id=\"tPORT-highwind-dir\" class=\"bgcolor1\">&nbsp;<abbr title=\"Direction the wind comes from\">Dir</abbr>&nbsp;</th>\n  <th headers=\"tPORT-highwind\" id=\"tPORT-highwind-gust-kmh\" class=\"bgcolor1\"><abbr title=\"Wind Gust, kilometres per hour, measured over 3 seconds from the standard height of 10 metres\">km/h</abbr><br /><small>time</small></th>\n  <th headers=\"tPORT-highwind\" id=\"tPORT-highwind-gust-kts\" class=\"bgcolor1\"><abbr title=\"Wind Gust, knots, measured over 3 seconds from the standard height of 10 metres\">kts</abbr><br /><small>time</small></th>\n</tr>\n</thead>\n\n<tbody> <!-- abcd open product tbody -->\n</tbody> <!-- abcd close product tbody for this division -->\n</table> <!-- ABCD close product table for this division -->\n<!-- station information for state/territory output -->\n<div class=\"noPrint\">\n        <h3>Weather station information</h3>\n<ul>\n<li><i>Kingfish B weather observations are provided by ExxonMobil.</i></li>\n<li>Portable automatic weather stations (PAWS) are operated by other organisations, such as Fire and Emergency Services, and are included here by agreement.\nPortable stations may be deployed to a location for a short period and their location may be subject to change without notice.\nWind observations from these stations are provided from heights of either three (3) or ten (10) metres above ground level (AGL).\n</li>\n</ul>\n\n\n<h3 id=\"DataQuality\">Data quality</h3>\n<p>These observations have been taken from the Bureau of Meteorology's real-time system. Most are generated automatically, \nwith only limited quality checks performed. It is possible for incorrect values to appear. Further information can be found at \n<a href=\"http://www.bom.gov.au/catalogue/observations/about-weather-observations.shtml\">About Latest Weather Observations</a>. \nPlease check the <a href=\"http://www.bom.gov.au/other/disclaimer.shtml\">disclaimer</a> before using these data.</p>\n</div>\n</div><!-- End: Content --></div>\n<!-- End: Container -->\n<!-- Begin: Left Column -->\n    <div id=\"left-column\"></div>\n<!-- End: Left Column -->\n\n<div class=\"clr\"><!-- clear columns --></div>\n</div>\n<!-- End: Columns -->\n</div>\n<!-- End: pagewrap -->\n<!-- Start: Footer -->\n<div id=\"footer\">\n    <div id=\"footer-columns\">\n        <ul id=\"fc-one\">\n            <li class=\"icon-link border-bottom uppercase\"><a href=\"/australia/warnings/?ref=ftr\" id=\"icon-link-warnings\"><span>Warnings</span></a></li>\n            <li class=\"row-link-first uppercase\"><a href=\"/water/?ref=ftr\">Water</a></li>\n            <li class=\"row-link uppercase\"><a href=\"/climate/?ref=ftr\">Climate</a></li>\n            <li class=\"row-link uppercase\"><a href=\"/environment/?ref=ftr\">Environment</a></li>\n            <li class=\"border-top\"><a href=\"/cyclone/?ref=ftr\">Tropical Cyclones</a></li>\n            <li><a href=\"/tsunami/?ref=ftr\">Tsunami Warning Centre</a></li>\n            <li><a href=\"/watl/?ref=ftr\">Agriculture - Water and the Land</a></li>\n            <li><a href=\"/marine/?ref=ftr\">Marine &amp; Ocean</a></li>\n            <li><a href=\"/uv/?ref=ftr\">UV &amp; Sun Protection</a></li>\n            <li><a href=\"/australia/flood/?ref=ftr\">Rainfall &amp; River Conditions</a></li>\n        </ul>\n        <ul id=\"fc-two\">\n            <li class=\"imagebox-links\">\n                <h3 class=\"hidden\">Graphical Views</h3>\n                <ul>\n                    <li class=\"first\"><a href=\"/australia/radar/?ref=ftr\" id=\"imagebox-link-radar\">Radar</a></li>\n                    <li><a href=\"/australia/satellite/?ref=ftr\" id=\"imagebox-link-sat\">Sat</a></li>\n                    <li><a href=\"/australia/charts/?ref=ftr\" id=\"imagebox-link-maps\">Maps</a></li>\n                </ul>\n            </li>\n            <li><a href=\"/jsp/watl/rainfall/pme.jsp?ref=ftr\">Rainfall Forecasts</a></li>\n            <li><a href=\"/climate/ahead/?ref=ftr\">Seasonal Outlooks</a></li>\n            <li><a href=\"/climate/change/?ref=ftr\">Climate Variability &amp; Change</a></li>\n            <li><a href=\"/climate/data/?ref=ftr\">Climate Data Online</a></li>\n            <li><a href=\"/water/ssf/?ref=ftr\">Seasonal Streamflow Forecasts</a></li>\n            <li><a href=\"/water/dashboards/#/water-storages/summary/state\">Water Storage</a></li>\n        </ul>\n        <ul id=\"fc-three\">\n            <li class=\"icon-link border-bottom\"><a href=\"/australia/meteye?ref=ftr\" id=\"icon-link-fe\"><span>MetEye&trade;</span></a></li>\n            <li><a href=\"/weather-services/?ref=ftr\">National Weather Services</a></li>\n            <li><a href=\"/aviation/?ref=ftr\">Aviation Weather Services</a></li>\n            <li><a href=\"/defence/?ref=ftr\">Defence Services</a></li>\n            <li><a href=\"http://www.sws.bom.gov.au/?ref=ftr\">Space Weather Services</a></li>\n            <li><a href=\"/reguser/?ref=ftr\">Registered User Services</a></li>\n            <li><a href=\"/business-solutions/industry-solutions.shtml?ref=ftr\">Industry Solutions</a></li>\n            <li><a href=\"/sep/?ref=ftr\">Supplier Entry Point</a></li>\n        </ul>\n        <ul id=\"fc-four\">\n            <li style=\"line-height: 15px;\" class=\"icon-link row-link-1st row-double\"><a href=\"http://www.facebook.com/bureauofmeteorology\" id=\"icon-link-fb\"><span>Facebook</span></a></li>\n            <li style=\"line-height: 15px;\" class=\"icon-link row-link-2nd\"><a id=\"icon-link-tw\" href=\"http://media.bom.gov.au/social-media/\"><span>Twitter</span></a></li>\n            <li style=\"line-height: 15px;\" class=\"icon-link row-link-1st\"><a href=\"http://www.youtube.com/user/BureauOfMeteorology\" id=\"icon-link-yt\"><span>Youtube</span></a></li>\n            <li style=\"line-height: 15px;\" class=\"icon-link row-link-2nd\"><a href=\"http://media.bom.gov.au/social?ref=ftr\" id=\"icon-link-bl\"><span>Blog</span></a></li>\n            <li style=\"line-height: 15px; margin-bottom: 9px; padding-bottom: 12px;\" class=\"icon-link row-link-1st border-bottom\"><a style=\"background-image: url('/images/ui/in-icon-sprite.gif');\" href=\"https://www.instagram.com/bureauofmeteorology/\" id=\"icon-link-in\"><span>Instagram</span></a></li>\n            <li style=\"line-height: 15px; margin-bottom: 9px; padding-bottom: 12px;\" class=\"icon-link row-link-2nd border-bottom\"><a href=\"http://www.bom.gov.au/rss/?ref=ftr\" id=\"icon-link-rss\"><span>RSS</span></a></li>\n            <li style=\"line-height: 15px;\" class=\"row-link-first\"><a href=\"/careers/?ref=ftr\">Careers</a></li>\n            <li style=\"line-height: 15px;\" class=\"row-link\"><a href=\"/site-map/?ref=ftr\">Sitemap</a></li>\n            <li style=\"line-height: 15px;\" class=\"row-link\"><a href=\"/other/feedback/?ref=ftr\">Feedback</a></li>\n            <li style=\"line-height: 15px;\" class=\"border-top\"><a href=\"/foi/?ref=ftr\">Freedom of Information</a></li>\n            <li style=\"line-height: 15px;\"><a href=\"/iwk/?ref=ftr\">Indigenous Weather Knowledge</a></li>\n            <li style=\"line-height: 15px;\"><a href=\"/lam/glossary/?ref=ftr\">Glossary</a></li>\n            <li style=\"line-height: 15px;\"><a href=\"/climate/data-services/education.shtml \">Students and Teachers</a></li>\n        </ul>\n        <p id=\"timestamp\">This page was created at <strong>05:51 on Sunday  9 August 2020 (UTC)</strong></p>\n        <p id=\"copyright\">&#169; <a href=\"/other/copyright.shtml?ref=ftr\">Copyright</a> Commonwealth of Australia 2020, Bureau of Meteorology (ABN 92 637 533 532) | CRICOS Provider 02015K | <a href=\"/other/disclaimer.shtml?ref=ftr\">Disclaimer</a> | <a href=\"/other/privacy.shtml?ref=ftr\">Privacy</a> | <a href=\"/other/accessibility.shtml?ref=ftr\">Accessibility</a></p>\n    </div>\n</div>\n<!-- End: Footer -->\n</div>\n<!-- End: PageHeight -->\n\n<script src=\"/includes/analytics.js\" type=\"text/javascript\"></script>\n\n  </body>\n</html>\n\n"
    },
    {
     "output_type": "error",
     "ename": "AttributeError",
     "evalue": "'NoneType' object has no attribute 'head'",
     "traceback": [
      "\u001b[1;31m---------------------------------------------------------------------------\u001b[0m",
      "\u001b[1;31mAttributeError\u001b[0m                            Traceback (most recent call last)",
      "\u001b[1;32m<ipython-input-14-0d15375e695b>\u001b[0m in \u001b[0;36m<module>\u001b[1;34m\u001b[0m\n\u001b[1;32m----> 1\u001b[1;33m \u001b[0mprint\u001b[0m\u001b[1;33m(\u001b[0m\u001b[0mresponse\u001b[0m\u001b[1;33m.\u001b[0m\u001b[0mtext\u001b[0m\u001b[1;33m)\u001b[0m\u001b[1;33m.\u001b[0m\u001b[0mhead\u001b[0m\u001b[1;33m\u001b[0m\u001b[1;33m\u001b[0m\u001b[0m\n\u001b[0m",
      "\u001b[1;31mAttributeError\u001b[0m: 'NoneType' object has no attribute 'head'"
     ]
    }
   ],
   "source": [
    "print(response.text)"
   ]
  },
  {
   "cell_type": "code",
   "execution_count": 56,
   "metadata": {
    "tags": []
   },
   "outputs": [
    {
     "output_type": "stream",
     "name": "stdout",
     "text": "Latest Weather Observations for Victoria\n"
    }
   ],
   "source": [
    "soup = BeautifulSoup(response.text)\n",
    "print(soup.html.head.title.string)\n",
    "\n"
   ]
  },
  {
   "cell_type": "code",
   "execution_count": 83,
   "metadata": {},
   "outputs": [],
   "source": [
    "tables = soup.find_all('table')\n",
    "rows = soup.find_all('tr')"
   ]
  },
  {
   "cell_type": "code",
   "execution_count": 33,
   "metadata": {
    "tags": []
   },
   "outputs": [
    {
     "output_type": "stream",
     "name": "stdout",
     "text": "[<th id=\"tMAL-tmp\" rowspan=\"2\"><abbr title=\"Temperature, degrees Celsius\">Temp<br/>°C</abbr></th>, <th id=\"tMAL-apptmp\" rowspan=\"2\"><abbr title=\"Apparent Temperature, degrees Celsius\">App<br/>Temp<br/>°C</abbr></th>, <th id=\"tMAL-dewpoint\" rowspan=\"2\"><abbr title=\"Dew Point Temperature, degrees Celsius\">Dew<br/>Point<br/>°C</abbr></th>]\n"
    }
   ],
   "source": [
    "print(soup('th')[0:10])"
   ]
  },
  {
   "cell_type": "code",
   "execution_count": 52,
   "metadata": {
    "tags": []
   },
   "outputs": [
    {
     "output_type": "error",
     "ename": "TypeError",
     "evalue": "list indices must be integers or slices, not str",
     "traceback": [
      "\u001b[1;31m---------------------------------------------------------------------------\u001b[0m",
      "\u001b[1;31mTypeError\u001b[0m                                 Traceback (most recent call last)",
      "\u001b[1;32m<ipython-input-52-414847510c0b>\u001b[0m in \u001b[0;36m<module>\u001b[1;34m\u001b[0m\n\u001b[1;32m----> 1\u001b[1;33m \u001b[1;32mfor\u001b[0m \u001b[0mi\u001b[0m \u001b[1;32min\u001b[0m \u001b[0msoup\u001b[0m\u001b[1;33m(\u001b[0m\u001b[1;34m'tr'\u001b[0m\u001b[1;33m)\u001b[0m\u001b[1;33m[\u001b[0m\u001b[1;36m0\u001b[0m\u001b[1;33m:\u001b[0m\u001b[1;36m3\u001b[0m\u001b[1;33m]\u001b[0m\u001b[1;33m[\u001b[0m\u001b[1;34m'id'\u001b[0m\u001b[1;33m]\u001b[0m\u001b[1;33m:\u001b[0m\u001b[1;33m\u001b[0m\u001b[1;33m\u001b[0m\u001b[0m\n\u001b[0m\u001b[0;32m      2\u001b[0m     \u001b[0mprint\u001b[0m\u001b[1;33m(\u001b[0m\u001b[0mi\u001b[0m\u001b[1;33m)\u001b[0m\u001b[1;33m\u001b[0m\u001b[1;33m\u001b[0m\u001b[0m\n",
      "\u001b[1;31mTypeError\u001b[0m: list indices must be integers or slices, not str"
     ]
    }
   ],
   "source": [
    "for i in soup('tr')[0:3]['id']:\n",
    "    print(i)"
   ]
  },
  {
   "cell_type": "code",
   "execution_count": 92,
   "metadata": {
    "tags": []
   },
   "outputs": [
    {
     "output_type": "stream",
     "name": "stdout",
     "text": "tMAL\ntWIM\ntSW\ntCEN\ntNCY\ntNE\ntNC\ntWSG\ntEG\ntPORT\n"
    }
   ],
   "source": [
    "\n",
    "for x in tables:\n",
    "    print(x['id'])"
   ]
  },
  {
   "cell_type": "code",
   "execution_count": 76,
   "metadata": {
    "tags": []
   },
   "outputs": [
    {
     "output_type": "stream",
     "name": "stdout",
     "text": "tMAL-station\n"
    }
   ],
   "source": [
    "print(rows.th['id'])"
   ]
  },
  {
   "cell_type": "code",
   "execution_count": 102,
   "metadata": {
    "tags": []
   },
   "outputs": [
    {
     "output_type": "stream",
     "name": "stdout",
     "text": "[<th class=\"rowleftcolumn\" id=\"tCEN-station-melbourne-olympic-park\"><a href=\"/products/IDV60801/IDV60801.95936.shtml\">Melbourne (Olympic Park)</a></th>]\n"
    }
   ],
   "source": [
    "rowMelbourne = soup.find_all(\"th\", id=\"tCEN-station-melbourne-olympic-park\")\n",
    "print(rowMelbourne)"
   ]
  },
  {
   "cell_type": "code",
   "execution_count": 5,
   "metadata": {
    "tags": [
     "outputPrepend"
    ]
   },
   "outputs": [
    {
     "output_type": "stream",
     "name": "stdout",
     "text": "EG-wind-gust-kmh tEG-station-mount-nowa-nowa\">\n           17\n          </td>\n          <td headers=\"tEG-wind tEG-wind-spd-kts tEG-station-mount-nowa-nowa\">\n           4\n          </td>\n          <td headers=\"tEG-wind tEG-wind-gust-kts tEG-station-mount-nowa-nowa\">\n           9\n          </td>\n          <td headers=\"tEG-press tEG-station-mount-nowa-nowa\">\n           -\n          </td>\n          <td headers=\"tEG-rainsince9am tEG-station-mount-nowa-nowa\">\n           0.8\n          </td>\n          <td headers=\"tEG-lowtmp tEG-station-mount-nowa-nowa\">\n           6.8\n           <br/>\n           <small>\n            04:43am\n           </small>\n          </td>\n          <td headers=\"tEG-hightmp tEG-station-mount-nowa-nowa\">\n           10.9\n           <br/>\n           <small>\n            12:41pm\n           </small>\n          </td>\n          <td headers=\"tEG-highwind tEG-highwind-dir tEG-station-mount-nowa-nowa\">\n           ESE\n          </td>\n          <td headers=\"tEG-highwind tEG-highwind-gust-kmh tEG-station-mount-nowa-nowa\">\n           26\n           <br/>\n           <small>\n            10:41am\n           </small>\n          </td>\n          <td headers=\"tEG-highwind tEG-highwind-gust-kts tEG-station-mount-nowa-nowa\">\n           14\n           <br/>\n           <small>\n            10:41am\n           </small>\n          </td>\n         </tr>\n         <tr class=\"rowleftcolumn\">\n          <th class=\"rowleftcolumn\" id=\"tEG-station-omeo\">\n           <a href=\"/products/IDV60801/IDV60801.94908.shtml\">\n            Omeo\n           </a>\n          </th>\n          <td headers=\"tEG-datetime tEG-station-omeo\">\n           09/05:30pm\n          </td>\n          <td headers=\"tEG-tmp tEG-station-omeo\">\n           6.7\n          </td>\n          <td headers=\"tEG-apptmp tEG-station-omeo\">\n           1.7\n          </td>\n          <td headers=\"tEG-dewpoint tEG-station-omeo\">\n           6.6\n          </td>\n          <td headers=\"tEG-relhum tEG-station-omeo\">\n           99\n          </td>\n          <td headers=\"tEG-delta-t tEG-station-omeo\">\n           0.0\n          </td>\n          <td headers=\"tEG-wind tEG-wind-dir tEG-station-omeo\">\n           SSE\n          </td>\n          <td headers=\"tEG-wind tEG-wind-spd-kmh tEG-station-omeo\">\n           22\n          </td>\n          <td headers=\"tEG-wind tEG-wind-gust-kmh tEG-station-omeo\">\n           39\n          </td>\n          <td headers=\"tEG-wind tEG-wind-spd-kts tEG-station-omeo\">\n           12\n          </td>\n          <td headers=\"tEG-wind tEG-wind-gust-kts tEG-station-omeo\">\n           21\n          </td>\n          <td headers=\"tEG-press tEG-station-omeo\">\n           1019.0\n          </td>\n          <td headers=\"tEG-rainsince9am tEG-station-omeo\">\n           1.6\n          </td>\n          <td headers=\"tEG-lowtmp tEG-station-omeo\">\n           5.6\n           <br/>\n           <small>\n            05:43am\n           </small>\n          </td>\n          <td headers=\"tEG-hightmp tEG-station-omeo\">\n           8.9\n           <br/>\n           <small>\n            02:54pm\n           </small>\n          </td>\n          <td headers=\"tEG-highwind tEG-highwind-dir tEG-station-omeo\">\n           SE\n          </td>\n          <td headers=\"tEG-highwind tEG-highwind-gust-kmh tEG-station-omeo\">\n           43\n           <br/>\n           <small>\n            11:17am\n           </small>\n          </td>\n          <td headers=\"tEG-highwind tEG-highwind-gust-kts tEG-station-omeo\">\n           23\n           <br/>\n           <small>\n            11:17am\n           </small>\n          </td>\n         </tr>\n         <tr class=\"rowleftcolumn\">\n          <th class=\"rowleftcolumn\" id=\"tEG-station-orbost\">\n           <a href=\"/products/IDV60801/IDV60801.95918.shtml\">\n            Orbost\n           </a>\n          </th>\n          <td headers=\"tEG-datetime tEG-station-orbost\">\n           09/05:30pm\n          </td>\n          <td headers=\"tEG-tmp tEG-station-orbost\">\n           11.7\n          </td>\n          <td headers=\"tEG-apptmp tEG-station-orbost\">\n           9.9\n          </td>\n          <td headers=\"tEG-dewpoint tEG-station-orbost\">\n           9.3\n          </td>\n          <td headers=\"tEG-relhum tEG-station-orbost\">\n           85\n          </td>\n          <td headers=\"tEG-delta-t tEG-station-orbost\">\n           1.2\n          </td>\n          <td headers=\"tEG-wind tEG-wind-dir tEG-station-orbost\">\n           ESE\n          </td>\n          <td headers=\"tEG-wind tEG-wind-spd-kmh tEG-station-orbost\">\n           9\n          </td>\n          <td headers=\"tEG-wind tEG-wind-gust-kmh tEG-station-orbost\">\n           15\n          </td>\n          <td headers=\"tEG-wind tEG-wind-spd-kts tEG-station-orbost\">\n           5\n          </td>\n          <td headers=\"tEG-wind tEG-wind-gust-kts tEG-station-orbost\">\n           8\n          </td>\n          <td headers=\"tEG-press tEG-station-orbost\">\n           1019.5\n          </td>\n          <td headers=\"tEG-rainsince9am tEG-station-orbost\">\n           0.6\n          </td>\n          <td headers=\"tEG-lowtmp tEG-station-orbost\">\n           7.6\n           <br/>\n           <small>\n            05:22am\n           </small>\n          </td>\n          <td headers=\"tEG-hightmp tEG-station-orbost\">\n           14.1\n           <br/>\n           <small>\n            12:18pm\n           </small>\n          </td>\n          <td headers=\"tEG-highwind tEG-highwind-dir tEG-station-orbost\">\n           SE\n          </td>\n          <td headers=\"tEG-highwind tEG-highwind-gust-kmh tEG-station-orbost\">\n           32\n           <br/>\n           <small>\n            12:19pm\n           </small>\n          </td>\n          <td headers=\"tEG-highwind tEG-highwind-gust-kts tEG-station-orbost\">\n           17\n           <br/>\n           <small>\n            12:19pm\n           </small>\n          </td>\n         </tr>\n        </tbody>\n        <!-- abcd close product tbody for this division -->\n       </table>\n       <!-- ABCD close product table for this division -->\n       <h2 id=\"PORT\">\n        PORTABLE\n       </h2>\n       <table border=\"1\" cellspacing=\"0\" class=\"tabledata obs_table\" id=\"tPORT\" summary=\"Observations for PORT including temperature, wind, rain and other weather elements\">\n        <!-- ABCD open product division table before col headings -->\n        <colgroup>\n         <col class=\"col_station\"/>\n         <col/>\n         <col/>\n         <col/>\n         <col/>\n         <col/>\n         <col/>\n        </colgroup>\n        <thead>\n         <tr>\n          <th class=\"rowleftcolumn\" id=\"tPORT-station\" rowspan=\"2\">\n          </th>\n          <th id=\"tPORT-datetime\" rowspan=\"2\" title=\"Date and local time\">\n           Date/Time\n           <br/>\n           <acronym title=\"Eastern Standard Time\">\n            EST\n           </acronym>\n          </th>\n          <th id=\"tPORT-tmp\" rowspan=\"2\">\n           <abbr title=\"Temperature, degrees Celsius\">\n            Temp\n            <br/>\n            °C\n           </abbr>\n          </th>\n          <th id=\"tPORT-apptmp\" rowspan=\"2\">\n           <abbr title=\"Apparent Temperature, degrees Celsius\">\n            App\n            <br/>\n            Temp\n            <br/>\n            °C\n           </abbr>\n          </th>\n          <th id=\"tPORT-dewpoint\" rowspan=\"2\">\n           <abbr title=\"Dew Point Temperature, degrees Celsius\">\n            Dew\n            <br/>\n            Point\n            <br/>\n            °C\n           </abbr>\n          </th>\n          <th id=\"tPORT-relhum\" rowspan=\"2\">\n           <abbr title=\"Relative Humidity, percentage\">\n            Rel\n            <br/>\n            Hum\n            <br/>\n            %\n           </abbr>\n          </th>\n          <th id=\"tPORT-delta-t\" rowspan=\"2\">\n           <abbr title=\"Wet Bulb Depression, degrees Celsius\">\n            Delta-T\n            <br/>\n            °C\n           </abbr>\n          </th>\n          <th colspan=\"5\" id=\"tPORT-wind\">\n           Wind\n          </th>\n          <th id=\"tPORT-press\" rowspan=\"2\">\n           <abbr title=\"Pressure, hectopascals\">\n            Press\n            <br/>\n            hPa\n           </abbr>\n          </th>\n          <th id=\"tPORT-rainsince9am\" rowspan=\"2\" title=\"Rain since 9am, millimetres\">\n           Rain since\n           <br/>\n           9am\n           <br/>\n           <abbr title=\"millimetres\">\n            mm\n           </abbr>\n          </th>\n          <!-- extremes -->\n          <th class=\"bgcolor1\" id=\"tPORT-lowtmp\" rowspan=\"2\">\n           <abbr title=\"Lowest Temperature, degrees Celsius, from 6pm to 9am\">\n            Low\n            <br/>\n            Temp\n            <br/>\n            °C\n           </abbr>\n           <br/>\n           <small>\n            time\n           </small>\n          </th>\n          <th class=\"bgcolor1\" id=\"tPORT-hightmp\" rowspan=\"2\">\n           <abbr title=\"Highest Temperature, degrees Celsius, from 6am to 9pm\">\n            High\n            <br/>\n            Temp\n            <br/>\n            °C\n           </abbr>\n           <br/>\n           <small>\n            time\n           </small>\n          </th>\n          <th class=\"bgcolor1\" colspan=\"3\" id=\"tPORT-highwind\" title=\"Highest Wind Gust from midnight\">\n           Highest Wind Gust\n          </th>\n         </tr>\n         <tr>\n          <th headers=\"tPORT-wind\" id=\"tPORT-wind-dir\">\n           <abbr title=\"Direction the wind comes from\">\n            Dir\n           </abbr>\n          </th>\n          <th headers=\"tPORT-wind\" id=\"tPORT-wind-spd-kmh\">\n           <abbr title=\"Wind Speed, kilometres per hour, 10-minute average from the standard height of 10 metres\">\n            Spd\n            <br/>\n            km/h\n           </abbr>\n          </th>\n          <th headers=\"tPORT-wind\" id=\"tPORT-wind-gust-kmh\">\n           <abbr title=\"Wind Gust, kilometres per hour, measured over 3 seconds from the standard height of 10 metres\">\n            Gust\n            <br/>\n            km/h\n           </abbr>\n          </th>\n          <th headers=\"tPORT-wind\" id=\"tPORT-wind-spd-kts\">\n           <abbr title=\"Wind Speed, knots, 10-minute average from the standard height of 10 metres\">\n            Spd\n            <br/>\n            kts\n           </abbr>\n          </th>\n          <th headers=\"tPORT-wind\" id=\"tPORT-wind-gust-kts\">\n           <abbr title=\"Wind Gust, knots, measured over 3 seconds from the standard height of 10 metres\">\n            Gust\n            <br/>\n            kts\n           </abbr>\n          </th>\n          <!-- extremes -->\n          <th class=\"bgcolor1\" headers=\"tPORT-highwind\" id=\"tPORT-highwind-dir\">\n           <abbr title=\"Direction the wind comes from\">\n            Dir\n           </abbr>\n          </th>\n          <th class=\"bgcolor1\" headers=\"tPORT-highwind\" id=\"tPORT-highwind-gust-kmh\">\n           <abbr title=\"Wind Gust, kilometres per hour, measured over 3 seconds from the standard height of 10 metres\">\n            km/h\n           </abbr>\n           <br/>\n           <small>\n            time\n           </small>\n          </th>\n          <th class=\"bgcolor1\" headers=\"tPORT-highwind\" id=\"tPORT-highwind-gust-kts\">\n           <abbr title=\"Wind Gust, knots, measured over 3 seconds from the standard height of 10 metres\">\n            kts\n           </abbr>\n           <br/>\n           <small>\n            time\n           </small>\n          </th>\n         </tr>\n        </thead>\n        <tbody>\n         <!-- abcd open product tbody -->\n        </tbody>\n        <!-- abcd close product tbody for this division -->\n       </table>\n       <!-- ABCD close product table for this division -->\n       <!-- station information for state/territory output -->\n       <div class=\"noPrint\">\n        <h3>\n         Weather station information\n        </h3>\n        <ul>\n         <li>\n          <i>\n           Kingfish B weather observations are provided by ExxonMobil.\n          </i>\n         </li>\n         <li>\n          Portable automatic weather stations (PAWS) are operated by other organisations, such as Fire and Emergency Services, and are included here by agreement.\nPortable stations may be deployed to a location for a short period and their location may be subject to change without notice.\nWind observations from these stations are provided from heights of either three (3) or ten (10) metres above ground level (AGL).\n         </li>\n        </ul>\n        <h3 id=\"DataQuality\">\n         Data quality\n        </h3>\n        <p>\n         These observations have been taken from the Bureau of Meteorology's real-time system. Most are generated automatically, \nwith only limited quality checks performed. It is possible for incorrect values to appear. Further information can be found at\n         <a href=\"http://www.bom.gov.au/catalogue/observations/about-weather-observations.shtml\">\n          About Latest Weather Observations\n         </a>\n         . \nPlease check the\n         <a href=\"http://www.bom.gov.au/other/disclaimer.shtml\">\n          disclaimer\n         </a>\n         before using these data.\n        </p>\n       </div>\n      </div>\n      <!-- End: Content -->\n     </div>\n     <!-- End: Container -->\n     <!-- Begin: Left Column -->\n     <div id=\"left-column\">\n     </div>\n     <!-- End: Left Column -->\n     <div class=\"clr\">\n      <!-- clear columns -->\n     </div>\n    </div>\n    <!-- End: Columns -->\n   </div>\n   <!-- End: pagewrap -->\n   <!-- Start: Footer -->\n   <div id=\"footer\">\n    <div id=\"footer-columns\">\n     <ul id=\"fc-one\">\n      <li class=\"icon-link border-bottom uppercase\">\n       <a href=\"/australia/warnings/?ref=ftr\" id=\"icon-link-warnings\">\n        <span>\n         Warnings\n        </span>\n       </a>\n      </li>\n      <li class=\"row-link-first uppercase\">\n       <a href=\"/water/?ref=ftr\">\n        Water\n       </a>\n      </li>\n      <li class=\"row-link uppercase\">\n       <a href=\"/climate/?ref=ftr\">\n        Climate\n       </a>\n      </li>\n      <li class=\"row-link uppercase\">\n       <a href=\"/environment/?ref=ftr\">\n        Environment\n       </a>\n      </li>\n      <li class=\"border-top\">\n       <a href=\"/cyclone/?ref=ftr\">\n        Tropical Cyclones\n       </a>\n      </li>\n      <li>\n       <a href=\"/tsunami/?ref=ftr\">\n        Tsunami Warning Centre\n       </a>\n      </li>\n      <li>\n       <a href=\"/watl/?ref=ftr\">\n        Agriculture - Water and the Land\n       </a>\n      </li>\n      <li>\n       <a href=\"/marine/?ref=ftr\">\n        Marine &amp; Ocean\n       </a>\n      </li>\n      <li>\n       <a href=\"/uv/?ref=ftr\">\n        UV &amp; Sun Protection\n       </a>\n      </li>\n      <li>\n       <a href=\"/australia/flood/?ref=ftr\">\n        Rainfall &amp; River Conditions\n       </a>\n      </li>\n     </ul>\n     <ul id=\"fc-two\">\n      <li class=\"imagebox-links\">\n       <h3 class=\"hidden\">\n        Graphical Views\n       </h3>\n       <ul>\n        <li class=\"first\">\n         <a href=\"/australia/radar/?ref=ftr\" id=\"imagebox-link-radar\">\n          Radar\n         </a>\n        </li>\n        <li>\n         <a href=\"/australia/satellite/?ref=ftr\" id=\"imagebox-link-sat\">\n          Sat\n         </a>\n        </li>\n        <li>\n         <a href=\"/australia/charts/?ref=ftr\" id=\"imagebox-link-maps\">\n          Maps\n         </a>\n        </li>\n       </ul>\n      </li>\n      <li>\n       <a href=\"/jsp/watl/rainfall/pme.jsp?ref=ftr\">\n        Rainfall Forecasts\n       </a>\n      </li>\n      <li>\n       <a href=\"/climate/ahead/?ref=ftr\">\n        Seasonal Outlooks\n       </a>\n      </li>\n      <li>\n       <a href=\"/climate/change/?ref=ftr\">\n        Climate Variability &amp; Change\n       </a>\n      </li>\n      <li>\n       <a href=\"/climate/data/?ref=ftr\">\n        Climate Data Online\n       </a>\n      </li>\n      <li>\n       <a href=\"/water/ssf/?ref=ftr\">\n        Seasonal Streamflow Forecasts\n       </a>\n      </li>\n      <li>\n       <a href=\"/water/dashboards/#/water-storages/summary/state\">\n        Water Storage\n       </a>\n      </li>\n     </ul>\n     <ul id=\"fc-three\">\n      <li class=\"icon-link border-bottom\">\n       <a href=\"/australia/meteye?ref=ftr\" id=\"icon-link-fe\">\n        <span>\n         MetEye™\n        </span>\n       </a>\n      </li>\n      <li>\n       <a href=\"/weather-services/?ref=ftr\">\n        National Weather Services\n       </a>\n      </li>\n      <li>\n       <a href=\"/aviation/?ref=ftr\">\n        Aviation Weather Services\n       </a>\n      </li>\n      <li>\n       <a href=\"/defence/?ref=ftr\">\n        Defence Services\n       </a>\n      </li>\n      <li>\n       <a href=\"http://www.sws.bom.gov.au/?ref=ftr\">\n        Space Weather Services\n       </a>\n      </li>\n      <li>\n       <a href=\"/reguser/?ref=ftr\">\n        Registered User Services\n       </a>\n      </li>\n      <li>\n       <a href=\"/business-solutions/industry-solutions.shtml?ref=ftr\">\n        Industry Solutions\n       </a>\n      </li>\n      <li>\n       <a href=\"/sep/?ref=ftr\">\n        Supplier Entry Point\n       </a>\n      </li>\n     </ul>\n     <ul id=\"fc-four\">\n      <li class=\"icon-link row-link-1st row-double\" style=\"line-height: 15px;\">\n       <a href=\"http://www.facebook.com/bureauofmeteorology\" id=\"icon-link-fb\">\n        <span>\n         Facebook\n        </span>\n       </a>\n      </li>\n      <li class=\"icon-link row-link-2nd\" style=\"line-height: 15px;\">\n       <a href=\"http://media.bom.gov.au/social-media/\" id=\"icon-link-tw\">\n        <span>\n         Twitter\n        </span>\n       </a>\n      </li>\n      <li class=\"icon-link row-link-1st\" style=\"line-height: 15px;\">\n       <a href=\"http://www.youtube.com/user/BureauOfMeteorology\" id=\"icon-link-yt\">\n        <span>\n         Youtube\n        </span>\n       </a>\n      </li>\n      <li class=\"icon-link row-link-2nd\" style=\"line-height: 15px;\">\n       <a href=\"http://media.bom.gov.au/social?ref=ftr\" id=\"icon-link-bl\">\n        <span>\n         Blog\n        </span>\n       </a>\n      </li>\n      <li class=\"icon-link row-link-1st border-bottom\" style=\"line-height: 15px; margin-bottom: 9px; padding-bottom: 12px;\">\n       <a href=\"https://www.instagram.com/bureauofmeteorology/\" id=\"icon-link-in\" style=\"background-image: url('/images/ui/in-icon-sprite.gif');\">\n        <span>\n         Instagram\n        </span>\n       </a>\n      </li>\n      <li class=\"icon-link row-link-2nd border-bottom\" style=\"line-height: 15px; margin-bottom: 9px; padding-bottom: 12px;\">\n       <a href=\"http://www.bom.gov.au/rss/?ref=ftr\" id=\"icon-link-rss\">\n        <span>\n         RSS\n        </span>\n       </a>\n      </li>\n      <li class=\"row-link-first\" style=\"line-height: 15px;\">\n       <a href=\"/careers/?ref=ftr\">\n        Careers\n       </a>\n      </li>\n      <li class=\"row-link\" style=\"line-height: 15px;\">\n       <a href=\"/site-map/?ref=ftr\">\n        Sitemap\n       </a>\n      </li>\n      <li class=\"row-link\" style=\"line-height: 15px;\">\n       <a href=\"/other/feedback/?ref=ftr\">\n        Feedback\n       </a>\n      </li>\n      <li class=\"border-top\" style=\"line-height: 15px;\">\n       <a href=\"/foi/?ref=ftr\">\n        Freedom of Information\n       </a>\n      </li>\n      <li style=\"line-height: 15px;\">\n       <a href=\"/iwk/?ref=ftr\">\n        Indigenous Weather Knowledge\n       </a>\n      </li>\n      <li style=\"line-height: 15px;\">\n       <a href=\"/lam/glossary/?ref=ftr\">\n        Glossary\n       </a>\n      </li>\n      <li style=\"line-height: 15px;\">\n       <a href=\"/climate/data-services/education.shtml \">\n        Students and Teachers\n       </a>\n      </li>\n     </ul>\n     <p id=\"timestamp\">\n      This page was created at\n      <strong>\n       07:35 on Sunday  9 August 2020 (UTC)\n      </strong>\n     </p>\n     <p id=\"copyright\">\n      ©\n      <a href=\"/other/copyright.shtml?ref=ftr\">\n       Copyright\n      </a>\n      Commonwealth of Australia 2020, Bureau of Meteorology (ABN 92 637 533 532) | CRICOS Provider 02015K |\n      <a href=\"/other/disclaimer.shtml?ref=ftr\">\n       Disclaimer\n      </a>\n      |\n      <a href=\"/other/privacy.shtml?ref=ftr\">\n       Privacy\n      </a>\n      |\n      <a href=\"/other/accessibility.shtml?ref=ftr\">\n       Accessibility\n      </a>\n     </p>\n    </div>\n   </div>\n   <!-- End: Footer -->\n  </div>\n  <!-- End: PageHeight -->\n  <script src=\"/includes/analytics.js\" type=\"text/javascript\">\n  </script>\n </body>\n</html>\n\n"
    }
   ],
   "source": [
    "# Make a GET request to fetch the raw HTML content\n",
    "html_content = requests.text\n",
    "\n",
    "# Parse the html content\n",
    "soup1 = BeautifulSoup(html_content, \"lxml\")\n",
    "print(soup1.prettify()) # print the parsed data of html"
   ]
  },
  {
   "cell_type": "code",
   "execution_count": 10,
   "metadata": {
    "tags": []
   },
   "outputs": [
    {
     "output_type": "stream",
     "name": "stdout",
     "text": "<th class=\"rowleftcolumn\" id=\"tCEN-station-melbourne-olympic-park\"><a href=\"/products/IDV60801/IDV60801.95936.shtml\">Melbourne (Olympic Park)</a></th>\n"
    }
   ],
   "source": [
    "obsID = soup1.find(id=\"tCEN-station-melbourne-olympic-park\")\n",
    "print(obsID)"
   ]
  },
  {
   "cell_type": "code",
   "execution_count": 11,
   "metadata": {
    "tags": []
   },
   "outputs": [
    {
     "output_type": "stream",
     "name": "stdout",
     "text": "<tr class=\"rowleftcolumn\">\n<th class=\"rowleftcolumn\" id=\"tCEN-station-melbourne-olympic-park\"><a href=\"/products/IDV60801/IDV60801.95936.shtml\">Melbourne (Olympic Park)</a></th>\n<td headers=\"tCEN-datetime tCEN-station-melbourne-olympic-park\">09/05:30pm</td>\n<td headers=\"tCEN-tmp tCEN-station-melbourne-olympic-park\">13.2</td>\n<td headers=\"tCEN-apptmp tCEN-station-melbourne-olympic-park\">10.2</td>\n<td headers=\"tCEN-dewpoint tCEN-station-melbourne-olympic-park\">7.6</td>\n<td headers=\"tCEN-relhum tCEN-station-melbourne-olympic-park\">69</td>\n<td headers=\"tCEN-delta-t tCEN-station-melbourne-olympic-park\">2.7</td>\n<td headers=\"tCEN-wind tCEN-wind-dir tCEN-station-melbourne-olympic-park\">SSE</td>\n<td headers=\"tCEN-wind tCEN-wind-spd-kmh tCEN-station-melbourne-olympic-park\">13</td>\n<td headers=\"tCEN-wind tCEN-wind-gust-kmh tCEN-station-melbourne-olympic-park\">28</td>\n<td headers=\"tCEN-wind tCEN-wind-spd-kts tCEN-station-melbourne-olympic-park\">7</td>\n<td headers=\"tCEN-wind tCEN-wind-gust-kts tCEN-station-melbourne-olympic-park\">15</td>\n<td headers=\"tCEN-press tCEN-station-melbourne-olympic-park\">1019.9</td>\n<td headers=\"tCEN-rainsince9am tCEN-station-melbourne-olympic-park\">0.0</td>\n<td headers=\"tCEN-lowtmp tCEN-station-melbourne-olympic-park\">8.9<br/><small>07:34am</small></td>\n<td headers=\"tCEN-hightmp tCEN-station-melbourne-olympic-park\">15.8<br/><small>03:46pm</small></td>\n<td headers=\"tCEN-highwind tCEN-highwind-dir tCEN-station-melbourne-olympic-park\">SSE</td>\n<td headers=\"tCEN-highwind tCEN-highwind-gust-kmh tCEN-station-melbourne-olympic-park\">41<br/><small>11:06am</small></td>\n<td headers=\"tCEN-highwind tCEN-highwind-gust-kts tCEN-station-melbourne-olympic-park\">22<br/><small>11:06am</small></td>\n</tr>\n"
    }
   ],
   "source": [
    "obsRow = obsID.find_parent(\"tr\")\n",
    "print(obsRow)"
   ]
  },
  {
   "cell_type": "code",
   "execution_count": 14,
   "metadata": {
    "tags": []
   },
   "outputs": [
    {
     "output_type": "stream",
     "name": "stdout",
     "text": "1019.9\n1019.9\n"
    }
   ],
   "source": [
    "tableCell = soup1.find(\"td\", attrs={\"headers\":\"tCEN-press tCEN-station-melbourne-olympic-park\"})\n",
    "meanSeaLevelPressure = float(tableCell.string)\n",
    "print(tableCell.string)\n",
    "print(meanSeaLevelPressure)"
   ]
  }
 ],
 "metadata": {
  "language_info": {
   "codemirror_mode": {
    "name": "ipython",
    "version": 3
   },
   "file_extension": ".py",
   "mimetype": "text/x-python",
   "name": "python",
   "nbconvert_exporter": "python",
   "pygments_lexer": "ipython3",
   "version": "3.7.4-final"
  },
  "orig_nbformat": 2,
  "kernelspec": {
   "name": "python37464bitc76cf1bf68e548c28f54c31c2e3405c8",
   "display_name": "Python 3.7.4 64-bit"
  }
 },
 "nbformat": 4,
 "nbformat_minor": 2
}